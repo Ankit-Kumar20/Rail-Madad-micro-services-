{
 "cells": [
  {
   "cell_type": "code",
   "execution_count": 1,
   "metadata": {},
   "outputs": [],
   "source": [
    "import os\n",
    "from dotenv import load_dotenv\n",
    "load_dotenv()\n",
    "\n",
    "os.environ['GOOGLE_API_KEY'] = os.getenv(\"GOOGLE_API_KEY\")\n",
    "os.environ['LANGCHAIN_API_KEY'] = os.getenv(\"LANGCHAIN_API_KEY\")\n",
    "os.environ[\"LANGCHAIN_TRACING_V2\"]=\"true\"\n",
    "os.environ[\"LANGCHAIN_PROJECT\"] = os.getenv(\"LANGCHAIN_PROJECT\")"
   ]
  },
  {
   "cell_type": "code",
   "execution_count": 25,
   "metadata": {},
   "outputs": [
    {
     "name": "stdout",
     "output_type": "stream",
     "text": [
      "model='models/gemini-1.5-flash' client=<google.ai.generativelanguage_v1beta.services.generative_service.client.GenerativeServiceClient object at 0x000001DF182EE9F0> async_client=<google.ai.generativelanguage_v1beta.services.generative_service.async_client.GenerativeServiceAsyncClient object at 0x000001DF1848E690> default_metadata=()\n"
     ]
    }
   ],
   "source": [
    "from langchain_google_genai import ChatGoogleGenerativeAI\n",
    "llm=ChatGoogleGenerativeAI(model=\"gemini-1.5-flash\")\n",
    "print(llm)"
   ]
  },
  {
   "cell_type": "code",
   "execution_count": 26,
   "metadata": {},
   "outputs": [
    {
     "data": {
      "text/plain": [
       "AIMessage(content=\"Generative AI refers to a type of artificial intelligence that focuses on **creating new content**, rather than simply analyzing or understanding existing data. \\n\\nHere's a breakdown:\\n\\n**What it does:**\\n\\n* **Generates new content:** This can be in various forms like text, images, music, code, videos, and even 3D models.\\n* **Learns from existing data:** Generative AI models are trained on massive datasets of existing content to learn patterns and relationships. \\n* **Creates original outputs:** Based on this learned knowledge, they can generate new content that is similar to, but not identical to, the training data.\\n\\n**How it works:**\\n\\nGenerative AI models are typically based on deep learning techniques, particularly neural networks. Some common architectures include:\\n\\n* **Generative Adversarial Networks (GANs):** These involve two neural networks competing against each other – one generating content and the other evaluating its authenticity.\\n* **Variational Autoencoders (VAEs):** These compress data into a lower-dimensional representation and then use it to generate new data.\\n* **Diffusion Models:** These gradually add noise to data and then learn to reverse the process, generating new data from noise.\\n\\n**Examples of Generative AI:**\\n\\n* **Text generation:** ChatGPT, Bard, Jasper\\n* **Image generation:** Dall-E 2, Midjourney, Stable Diffusion\\n* **Music composition:** Jukebox, Amper Music\\n* **Code generation:** GitHub Copilot, Tabnine\\n\\n**Applications:**\\n\\nGenerative AI has a wide range of applications, including:\\n\\n* **Content creation:** Generating articles, stories, scripts, marketing materials, and more.\\n* **Art and design:** Creating paintings, sculptures, music, and other forms of art.\\n* **Product development:** Designing new products, prototyping, and generating ideas.\\n* **Research and education:** Creating simulations, generating data for experiments, and assisting in research.\\n\\n**Key aspects:**\\n\\n* **Creativity:** Generative AI can be used to create original and innovative content.\\n* **Efficiency:** It can automate content creation tasks, saving time and resources.\\n* **Personalization:** It can generate customized content based on user preferences.\\n\\n**Challenges:**\\n\\n* **Bias and ethics:** Generative AI models can reflect biases present in the training data.\\n* **Copyright and ownership:** The legal implications of generated content are still evolving.\\n* **Misinformation and deepfakes:** Generative AI can be used to create fake content, raising concerns about authenticity and truth.\\n\\nGenerative AI is a rapidly evolving field with immense potential. As the technology continues to develop, we can expect even more innovative applications and advancements in the coming years. \\n\", response_metadata={'prompt_feedback': {'block_reason': 0, 'safety_ratings': []}, 'finish_reason': 'STOP', 'safety_ratings': [{'category': 'HARM_CATEGORY_SEXUALLY_EXPLICIT', 'probability': 'NEGLIGIBLE', 'blocked': False}, {'category': 'HARM_CATEGORY_HATE_SPEECH', 'probability': 'NEGLIGIBLE', 'blocked': False}, {'category': 'HARM_CATEGORY_HARASSMENT', 'probability': 'NEGLIGIBLE', 'blocked': False}, {'category': 'HARM_CATEGORY_DANGEROUS_CONTENT', 'probability': 'NEGLIGIBLE', 'blocked': False}]}, id='run-87918022-1252-43df-8315-59e6bbe64a67-0', usage_metadata={'input_tokens': 8, 'output_tokens': 563, 'total_tokens': 571})"
      ]
     },
     "execution_count": 26,
     "metadata": {},
     "output_type": "execute_result"
    }
   ],
   "source": [
    "llm.invoke(\"What is geberative AI?\")"
   ]
  },
  {
   "cell_type": "code",
   "execution_count": 35,
   "metadata": {},
   "outputs": [
    {
     "data": {
      "text/plain": [
       "ChatPromptTemplate(input_variables=['input'], messages=[SystemMessagePromptTemplate(prompt=PromptTemplate(input_variables=[], template='You are a chatbot')), HumanMessagePromptTemplate(prompt=PromptTemplate(input_variables=['input'], template='{input}'))])"
      ]
     },
     "execution_count": 35,
     "metadata": {},
     "output_type": "execute_result"
    }
   ],
   "source": [
    "###Chatprompt Template\n",
    "from langchain_core.prompts import ChatPromptTemplate\n",
    "\n",
    "prompt = ChatPromptTemplate.from_messages(\n",
    "    [\n",
    "        (\"system\",\"You are a chatbot\"),\n",
    "        (\"user\",\"{input}\")\n",
    "    ]\n",
    ")\n",
    "prompt"
   ]
  },
  {
   "cell_type": "code",
   "execution_count": 37,
   "metadata": {},
   "outputs": [
    {
     "name": "stdout",
     "output_type": "stream",
     "text": [
      "content=\"I can tell you about Gemini AI! \\n\\n**What is Gemini AI?**\\n\\nGemini AI is Google's latest and most powerful AI system. It's designed to be a multimodal AI, meaning it can understand and interact with different types of information, including:\\n\\n* **Text:**  Read, understand, and generate human-like text.\\n* **Images:** Analyze and interpret images, identifying objects, scenes, and emotions.\\n* **Videos:** Process and understand information from videos, including motion, context, and audio.\\n* **Code:**  Write, debug, and understand code in multiple programming languages.\\n\\n**Key Features:**\\n\\n* **Advanced Language Understanding:**  Gemini excels at understanding complex language, nuances, and context.\\n* **Multimodal Capabilities:**  It can seamlessly integrate information from different sources, like images, videos, and text, to provide more comprehensive insights.\\n* **Reasoning and Problem Solving:**  Gemini can reason logically, solve problems, and generate creative solutions.\\n* **Code Generation and Debugging:**  It can write and debug code in various programming languages, making it a powerful tool for developers.\\n\\n**Current State:**\\n\\n* **Under Development:**  Gemini is still under development and hasn't been publicly released yet.\\n* **Limited Information:**  Google hasn't shared detailed information about its capabilities or release date.\\n* **High Expectations:**  The AI community eagerly anticipates Gemini's release, expecting it to push the boundaries of AI capabilities.\\n\\n**Potential Applications:**\\n\\n* **Enhanced Search:**  Revolutionize online search with more accurate and insightful results.\\n* **Content Creation:**  Generate high-quality text, images, and videos for various applications.\\n* **Personalized Learning:**  Provide tailored educational experiences based on individual needs.\\n* **Healthcare and Scientific Research:**  Assist in medical diagnosis, drug discovery, and scientific research.\\n\\n**Overall, Gemini AI represents a significant leap forward in AI technology. Its multimodal capabilities and advanced reasoning abilities have the potential to transform various industries and aspects of our lives.**\\n\\n**Note:** As Gemini is still under development, this information is based on what has been publicly shared and may be subject to change. \\n\" response_metadata={'prompt_feedback': {'block_reason': 0, 'safety_ratings': []}, 'finish_reason': 'STOP', 'safety_ratings': [{'category': 'HARM_CATEGORY_SEXUALLY_EXPLICIT', 'probability': 'NEGLIGIBLE', 'blocked': False}, {'category': 'HARM_CATEGORY_HATE_SPEECH', 'probability': 'NEGLIGIBLE', 'blocked': False}, {'category': 'HARM_CATEGORY_HARASSMENT', 'probability': 'NEGLIGIBLE', 'blocked': False}, {'category': 'HARM_CATEGORY_DANGEROUS_CONTENT', 'probability': 'NEGLIGIBLE', 'blocked': False}]} id='run-a4b3beab-2eb5-4344-9e1e-44a5e59306ad-0' usage_metadata={'input_tokens': 12, 'output_tokens': 453, 'total_tokens': 465}\n"
     ]
    }
   ],
   "source": [
    "chain=prompt|llm\n",
    "\n",
    "response = chain.invoke({\"input\":\"Can you tell about Gemini AI?\"})\n",
    "print(response)\n"
   ]
  },
  {
   "cell_type": "code",
   "execution_count": 38,
   "metadata": {},
   "outputs": [
    {
     "name": "stdout",
     "output_type": "stream",
     "text": [
      "**Gemini AI** is a large language model (LLM) developed by Google. It is considered to be Google's most advanced AI system yet, and it is designed to be more versatile and powerful than its predecessor, Bard.\n",
      "\n",
      "**Key Features:**\n",
      "\n",
      "* **Multimodal Capabilities:** Gemini can understand and generate different types of content, including text, images, audio, and video.\n",
      "* **Advanced Reasoning and Problem-Solving:** It excels at complex tasks that require logical reasoning, planning, and decision-making.\n",
      "* **Enhanced Language Understanding and Generation:** Gemini exhibits improved language comprehension, fluency, and creativity in text generation.\n",
      "* **Contextual Awareness:** It can maintain context over long conversations and remember past interactions.\n",
      "* **Integration with Google Services:** Gemini is deeply integrated with other Google products and services, such as Search, Assistant, and Workspace.\n",
      "\n",
      "**Applications:**\n",
      "\n",
      "* **Search and Information Retrieval:** Enhancing search results with more relevant and comprehensive information.\n",
      "* **Content Creation:** Generating high-quality text, images, and other creative content.\n",
      "* **Customer Service:** Providing personalized and efficient customer support through chatbots and virtual assistants.\n",
      "* **Education and Research:** Assisting students and researchers with learning, research, and problem-solving.\n",
      "* **Healthcare:** Analyzing medical data, diagnosing diseases, and providing personalized treatment recommendations.\n",
      "\n",
      "**Advantages:**\n",
      "\n",
      "* **Advanced Capabilities:** Gemini's multimodal capabilities, reasoning abilities, and language skills make it a highly versatile AI system.\n",
      "* **Google's Expertise:** Google's vast resources and experience in AI development have contributed to the creation of a powerful and reliable LLM.\n",
      "* **Integration with Google Services:** The integration with Google products provides seamless access and functionality across various platforms.\n",
      "\n",
      "**Limitations:**\n",
      "\n",
      "* **Limited Availability:** Gemini is currently in limited release and is not yet widely accessible.\n",
      "* **Bias and Ethical Concerns:** Like other LLMs, Gemini can exhibit biases based on the data it was trained on.\n",
      "* **Potential for Misuse:** The advanced capabilities of Gemini raise concerns about potential misuse, such as generating fake news or manipulating information.\n",
      "\n",
      "**Conclusion:**\n",
      "\n",
      "Gemini AI is a groundbreaking AI system with the potential to revolutionize various industries. Its multimodal capabilities, advanced reasoning abilities, and integration with Google services make it a powerful tool for a wide range of applications. However, it is important to address ethical concerns and mitigate potential risks associated with its use.\n",
      "\n"
     ]
    }
   ],
   "source": [
    "from langchain_core.output_parsers import StrOutputParser\n",
    "output_parser = StrOutputParser()\n",
    "chain = prompt|llm|output_parser\n",
    "\n",
    "response = chain.invoke({\"input\":\"Can u tell me about Gemini AI?\"})\n",
    "print(response)"
   ]
  }
 ],
 "metadata": {
  "kernelspec": {
   "display_name": "Python 3",
   "language": "python",
   "name": "python3"
  },
  "language_info": {
   "codemirror_mode": {
    "name": "ipython",
    "version": 3
   },
   "file_extension": ".py",
   "mimetype": "text/x-python",
   "name": "python",
   "nbconvert_exporter": "python",
   "pygments_lexer": "ipython3",
   "version": "3.12.0"
  }
 },
 "nbformat": 4,
 "nbformat_minor": 2
}
