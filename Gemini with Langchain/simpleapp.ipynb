{
 "cells": [
  {
   "cell_type": "code",
   "execution_count": 1,
   "metadata": {},
   "outputs": [],
   "source": [
    "import os\n",
    "from dotenv import load_dotenv\n",
    "load_dotenv()\n",
    "\n",
    "os.environ['GOOGLE_API_KEY'] = os.getenv(\"GOOGLE_API_KEY\")\n",
    "os.environ['LANGCHAIN_API_KEY'] = os.getenv(\"LANGCHAIN_API_KEY\")\n",
    "os.environ[\"LANGCHAIN_TRACING_V2\"]=\"true\"\n",
    "os.environ[\"LANGCHAIN_PROJECT\"] = os.getenv(\"LANGCHAIN_PROJECT\")"
   ]
  },
  {
   "cell_type": "code",
   "execution_count": 14,
   "metadata": {},
   "outputs": [],
   "source": [
    "from langchain_google_genai import ChatGoogleGenerativeAI\n",
    "llm=ChatGoogleGenerativeAI(model=\"gemini-1.5-flash\")"
   ]
  },
  {
   "cell_type": "code",
   "execution_count": 2,
   "metadata": {},
   "outputs": [
    {
     "name": "stderr",
     "output_type": "stream",
     "text": [
      "USER_AGENT environment variable not set, consider setting it to identify your requests.\n"
     ]
    }
   ],
   "source": [
    "### Data Ingestion -- From the website we need to Scrape the data\n",
    "\n",
    "from langchain_community .document_loaders import WebBaseLoader"
   ]
  },
  {
   "cell_type": "code",
   "execution_count": 4,
   "metadata": {},
   "outputs": [
    {
     "data": {
      "text/plain": [
       "<langchain_community.document_loaders.web_base.WebBaseLoader at 0x1ef99266cc0>"
      ]
     },
     "execution_count": 4,
     "metadata": {},
     "output_type": "execute_result"
    }
   ],
   "source": [
    "loader = WebBaseLoader(\"https://pypi.org/project/langchain-google-genai/\")\n",
    "loader"
   ]
  },
  {
   "cell_type": "code",
   "execution_count": 5,
   "metadata": {},
   "outputs": [
    {
     "data": {
      "text/plain": [
       "[Document(metadata={'source': 'https://pypi.org/project/langchain-google-genai/', 'title': 'langchain-google-genai · PyPI', 'description': \"An integration package connecting Google's genai package and LangChain\", 'language': 'en'}, page_content='\\n\\n\\n\\n\\n\\n\\n\\n\\nlangchain-google-genai · PyPI\\n\\n\\n\\n\\n\\n\\n\\n\\n\\n\\n \\n\\n\\n\\n\\n\\n\\n\\n\\n\\n\\n\\n\\n\\n\\n\\n\\n\\nSkip to main content\\n\\nSwitch to mobile version    \\n\\n\\n\\n\\n\\n\\n\\nWarning\\n\\nSome features may not work without JavaScript. Please try enabling it if you encounter problems.\\n\\n\\n \\n\\n\\n\\n\\n\\n\\n\\n\\n\\n\\n\\n\\nSearch PyPI\\n\\n\\n\\nSearch\\n\\n\\n\\n \\n\\n\\nHelp\\nSponsors\\nLog in\\nRegister\\n\\n\\n\\n\\nMenu      \\n\\n\\n\\n\\nHelp\\nSponsors\\nLog in\\nRegister\\n\\n\\n\\n \\n\\n\\n\\n\\nSearch PyPI\\n\\n\\n\\nSearch\\n\\n\\n\\n\\n\\n\\n\\n\\n\\n\\n        langchain-google-genai 1.0.10\\n      \\n\\n\\npip install langchain-google-genai\\n\\n\\nCopy PIP instructions\\n\\n\\n\\n\\n\\n\\nLatest version\\n\\n\\nReleased: \\n  Aug 21, 2024\\n \\n\\n\\n\\n\\n\\n \\nAn integration package connecting Google\\'s genai package and LangChain\\n \\n\\n\\n\\n\\n\\n\\n\\nNavigation\\n\\n\\n\\n\\n\\nProject description                \\n\\n\\n\\n\\nRelease history                \\n\\n\\n\\n\\nDownload files                \\n\\n\\n\\n\\n\\nVerified details\\nThese details have been verified by PyPI\\nProject links\\n\\n\\n\\nHomepage\\n        \\n\\n\\n\\n\\nRepository\\n        \\n\\n\\n\\n\\nSource Code\\n        \\n\\n\\n\\nGitHub Statistics\\n\\n\\n\\n\\n\\nRepository\\n\\n\\n\\n\\n\\nStars:\\n\\n\\n\\n\\n\\n\\nForks:\\n\\n\\n\\n\\n\\n\\nOpen issues:\\n\\n\\n\\n\\n\\n\\nOpen PRs:\\n\\n\\n\\n\\n\\nMaintainers\\n\\n\\n\\n\\n\\n\\n            baskaryan\\n          \\n\\n\\n\\n\\n\\n\\n\\n\\n            efriis\\n          \\n\\n\\n\\n\\n\\n\\n\\n\\n            wfhinthorn\\n          \\n\\n\\n\\n\\nUnverified details\\nThese details have not been verified by PyPI\\n\\nMeta\\n\\n\\n\\nLicense: MIT License (MIT)\\n      \\n\\n\\n\\nRequires: Python <4.0, >=3.9\\n    \\n\\n\\n\\nProvides-Extra: images \\n\\n\\n\\n\\nClassifiers\\n\\n\\nLicense\\n\\n\\n\\n            OSI Approved :: MIT License\\n          \\n\\n\\n\\n\\nProgramming Language\\n\\n\\n\\n            Python :: 3\\n          \\n\\n\\n\\n            Python :: 3.9\\n          \\n\\n\\n\\n            Python :: 3.10\\n          \\n\\n\\n\\n            Python :: 3.11\\n          \\n\\n\\n\\n            Python :: 3.12\\n          \\n\\n\\n\\n\\n\\n\\n\\n\\n\\n\\n\\n\\n\\n\\n\\nProject description              \\n\\n\\n\\n\\nProject details              \\n\\n\\n\\n\\nRelease history            \\n\\n\\n\\n\\nDownload files              \\n\\n\\n\\n\\nProject description\\n\\nlangchain-google-genai\\nThis package contains the LangChain integrations for Gemini through their generative-ai SDK.\\nInstallation\\npip install -U langchain-google-genai\\n\\nImage utilities\\nTo use image utility methods, like loading images from GCS urls, install with extras group \\'images\\':\\npip install -e \"langchain-google-genai[images]\"\\n\\nChat Models\\nThis package contains the ChatGoogleGenerativeAI class, which is the recommended way to interface with the Google Gemini series of models.\\nTo use, install the requirements, and configure your environment.\\nexport GOOGLE_API_KEY=your-api-key\\n\\nThen initialize\\nfrom langchain_google_genai import ChatGoogleGenerativeAI\\n\\nllm = ChatGoogleGenerativeAI(model=\"gemini-pro\")\\nllm.invoke(\"Sing a ballad of LangChain.\")\\n\\nMultimodal inputs\\nGemini vision model supports image inputs when providing a single chat message. Example:\\nfrom langchain_core.messages import HumanMessage\\nfrom langchain_google_genai import ChatGoogleGenerativeAI\\n\\nllm = ChatGoogleGenerativeAI(model=\"gemini-pro-vision\")\\n# example\\nmessage = HumanMessage(\\n    content=[\\n        {\\n            \"type\": \"text\",\\n            \"text\": \"What\\'s in this image?\",\\n        },  # You can optionally provide text parts\\n        {\"type\": \"image_url\", \"image_url\": \"https://picsum.photos/seed/picsum/200/300\"},\\n    ]\\n)\\nllm.invoke([message])\\n\\nThe value of image_url can be any of the following:\\n\\nA public image URL\\nAn accessible gcs file (e.g., \"gcs://path/to/file.png\")\\nA local file path\\nA base64 encoded image (e.g., data:image/png;base64,abcd124)\\nA PIL image\\n\\nEmbeddings\\nThis package also adds support for google\\'s embeddings models.\\nfrom langchain_google_genai import GoogleGenerativeAIEmbeddings\\n\\nembeddings = GoogleGenerativeAIEmbeddings(model=\"models/embedding-001\")\\nembeddings.embed_query(\"hello, world!\")\\n\\nSemantic Retrieval\\nEnables retrieval augmented generation (RAG) in your application.\\n# Create a new store for housing your documents.\\ncorpus_store = GoogleVectorStore.create_corpus(display_name=\"My Corpus\")\\n\\n# Create a new document under the above corpus.\\ndocument_store = GoogleVectorStore.create_document(\\n    corpus_id=corpus_store.corpus_id, display_name=\"My Document\"\\n)\\n\\n# Upload some texts to the document.\\ntext_splitter = CharacterTextSplitter(chunk_size=500, chunk_overlap=0)\\nfor file in DirectoryLoader(path=\"data/\").load():\\n    documents = text_splitter.split_documents([file])\\n    document_store.add_documents(documents)\\n\\n# Talk to your entire corpus with possibly many documents. \\naqa = corpus_store.as_aqa()\\nanswer = aqa.invoke(\"What is the meaning of life?\")\\n\\n# Read the response along with the attributed passages and answerability.\\nprint(response.answer)\\nprint(response.attributed_passages)\\nprint(response.answerable_probability)\\n\\n\\n\\n\\nProject details\\n\\nVerified details\\nThese details have been verified by PyPI\\nProject links\\n\\n\\n\\nHomepage\\n        \\n\\n\\n\\n\\nRepository\\n        \\n\\n\\n\\n\\nSource Code\\n        \\n\\n\\n\\nGitHub Statistics\\n\\n\\n\\n\\n\\nRepository\\n\\n\\n\\n\\n\\nStars:\\n\\n\\n\\n\\n\\n\\nForks:\\n\\n\\n\\n\\n\\n\\nOpen issues:\\n\\n\\n\\n\\n\\n\\nOpen PRs:\\n\\n\\n\\n\\n\\nMaintainers\\n\\n\\n\\n\\n\\n\\n            baskaryan\\n          \\n\\n\\n\\n\\n\\n\\n\\n\\n            efriis\\n          \\n\\n\\n\\n\\n\\n\\n\\n\\n            wfhinthorn\\n          \\n\\n\\n\\n\\nUnverified details\\nThese details have not been verified by PyPI\\n\\nMeta\\n\\n\\n\\nLicense: MIT License (MIT)\\n      \\n\\n\\n\\nRequires: Python <4.0, >=3.9\\n    \\n\\n\\n\\nProvides-Extra: images \\n\\n\\n\\n\\nClassifiers\\n\\n\\nLicense\\n\\n\\n\\n            OSI Approved :: MIT License\\n          \\n\\n\\n\\n\\nProgramming Language\\n\\n\\n\\n            Python :: 3\\n          \\n\\n\\n\\n            Python :: 3.9\\n          \\n\\n\\n\\n            Python :: 3.10\\n          \\n\\n\\n\\n            Python :: 3.11\\n          \\n\\n\\n\\n            Python :: 3.12\\n          \\n\\n\\n\\n\\n\\n \\n\\n\\n\\nRelease history\\n\\nRelease notifications |\\n              RSS feed \\n\\n\\n\\n\\n\\nThis version\\n\\n\\n\\n\\n\\n\\n\\n                  1.0.10\\n                \\n\\n\\n  Aug 21, 2024\\n\\n\\n\\n\\n\\n\\n\\n\\n\\n\\n\\n\\n\\n                  1.0.9\\n                \\n\\n\\n  Aug 16, 2024\\n\\n\\n\\n\\n\\n\\n\\n\\n\\n\\n\\n\\n\\n                  1.0.8\\n                \\n\\n\\n  Jul 22, 2024\\n\\n\\n\\n\\n\\n\\n\\n\\n\\n\\n\\n\\n\\n                  1.0.7\\n                \\n\\n\\n  Jun 25, 2024\\n\\n\\n\\n\\n\\n\\n\\n\\n\\n\\n\\n\\n\\n                  1.0.6\\n                \\n\\n\\n  Jun 5, 2024\\n\\n\\n\\n\\n\\n\\n\\n\\n\\n\\n\\n\\n\\n                  1.0.5\\n                \\n\\n\\n  May 22, 2024\\n\\n\\n\\n\\n\\n\\n\\n\\n\\n\\n\\n\\n\\n                  1.0.4\\n                \\n\\n\\n  May 16, 2024\\n\\n\\n\\n\\n\\n\\n\\n\\n\\n\\n\\n\\n\\n                  1.0.3\\n                \\n\\n\\n  Apr 26, 2024\\n\\n\\n\\n\\n\\n\\n\\n\\n\\n\\n\\n\\n\\n                  1.0.2\\n                \\n\\n\\n  Apr 11, 2024\\n\\n\\n\\n\\n\\n\\n\\n\\n\\n\\n\\n\\n\\n                  1.0.1\\n                \\n\\n\\n  Mar 27, 2024\\n\\n\\n\\n\\n\\n\\n\\n\\n\\n\\n\\n\\n\\n                  0.0.11\\n                \\n\\n\\n  Mar 13, 2024\\n\\n\\n\\n\\n\\n\\n\\n\\n\\n\\n\\n\\n\\n                  0.0.10rc0\\n                  \\npre-release                  \\n\\n\\n\\n  Feb 20, 2024\\n\\n\\n\\n\\n\\n\\n\\n\\n\\n\\n\\n\\n\\n                  0.0.9\\n                \\n\\n\\n  Feb 13, 2024\\n\\n\\n\\n\\n\\n\\n\\n\\n\\n\\n\\n\\n\\n                  0.0.8\\n                \\n\\n\\n  Feb 9, 2024\\n\\n\\n\\n\\n\\n\\n\\n\\n\\n\\n\\n\\n\\n                  0.0.7\\n                \\n\\n\\n  Feb 8, 2024\\n\\n\\n\\n\\n\\n\\n\\n\\n\\n\\n\\n\\n\\n                  0.0.6\\n                \\n\\n\\n  Jan 12, 2024\\n\\n\\n\\n\\n\\n\\n\\n\\n\\n\\n\\n\\n\\n                  0.0.5\\n                \\n\\n\\n  Dec 19, 2023\\n\\n\\n\\n\\n\\n\\n\\n\\n\\n\\n\\n\\n\\n                  0.0.4\\n                \\n\\n\\n  Dec 14, 2023\\n\\n\\n\\n\\n\\n\\n\\n\\n\\n\\n\\n\\n\\n                  0.0.3\\n                \\n\\n\\n  Dec 14, 2023\\n\\n\\n\\n\\n\\n\\n\\n\\n\\n\\n\\n\\n\\n                  0.0.2\\n                \\n\\n\\n  Dec 13, 2023\\n\\n\\n\\n\\n\\n\\n\\n\\n\\n\\n\\n\\n\\n                  0.0.1\\n                \\n\\n\\n  Dec 13, 2023\\n\\n\\n\\n\\n\\n\\n\\n\\n\\n\\n\\n\\n\\n                  0.0.1rc0\\n                  \\npre-release                  \\n\\n\\n\\n  Dec 13, 2023\\n\\n\\n\\n\\n\\n\\n\\nDownload files\\nDownload the file for your platform. If you\\'re not sure which to choose, learn more about installing packages.\\n\\nSource Distribution            \\n\\n\\n\\n\\n\\n\\n          langchain_google_genai-1.0.10.tar.gz\\n        \\n        (35.2 kB\\n        view hashes)\\n        \\n          Uploaded \\n  Aug 21, 2024\\n\\nSource\\n\\n\\n\\n\\nBuilt Distribution            \\n\\n\\n\\n\\n\\n\\n          langchain_google_genai-1.0.10-py3-none-any.whl\\n        \\n        (39.4 kB\\n        view hashes)\\n        \\n          Uploaded \\n  Aug 21, 2024\\n\\nPython 3\\n\\n\\n\\n\\n\\n\\n\\n\\nClose\\n\\n\\n\\nHashes for langchain_google_genai-1.0.10.tar.gz      \\n\\nHashes for langchain_google_genai-1.0.10.tar.gz\\n\\n\\nAlgorithm\\nHash digest\\n\\n\\n\\n\\n\\nSHA256\\nd4465aaf50825c78663618259ceca60a323d33b1a09a791631ddc7bd4806f4ce\\n\\n\\nCopy              \\n\\n\\n\\nMD5\\n774a0d84cd2a2d4d120f08c6dab971cf\\n\\n\\nCopy              \\n\\n\\n\\nBLAKE2b-256\\nf85eaec27b71372874a3ef21656bd9876c416615b864dae08f9d6e9259ed24e3\\n\\n\\nCopy              \\n\\n\\n\\n\\n\\n\\nClose\\n\\n\\n\\n\\n\\n\\nClose\\n\\n\\n\\nHashes for langchain_google_genai-1.0.10-py3-none-any.whl      \\n\\nHashes for langchain_google_genai-1.0.10-py3-none-any.whl\\n\\n\\nAlgorithm\\nHash digest\\n\\n\\n\\n\\n\\nSHA256\\n333f5e10ebde45b519b7816d7129cb73c5f5e6ab0df9960fa2c9f339fe9d9068\\n\\n\\nCopy              \\n\\n\\n\\nMD5\\n7bcee50bb6b1ee05fdb15e0aad0c6734\\n\\n\\nCopy              \\n\\n\\n\\nBLAKE2b-256\\ne6814dce584a25826945ee092c5a1ae56d6efdca73c108b46e7887670d3fe7a3\\n\\n\\nCopy              \\n\\n\\n\\n\\n\\n\\nClose\\n\\n\\n\\n\\n\\n\\n\\n\\n\\n\\n\\n\\n\\n\\nHelp\\n\\n\\nInstalling packages\\nUploading packages\\nUser guide\\nProject name retention\\nFAQs\\n\\n\\n\\n\\nAbout PyPI\\n\\n\\nPyPI Blog\\nInfrastructure dashboard\\nStatistics\\nLogos & trademarks\\nOur sponsors\\n\\n\\n\\n\\nContributing to PyPI\\n\\n\\nBugs and feedback\\nContribute on GitHub\\nTranslate PyPI\\nSponsor PyPI\\nDevelopment credits\\n\\n\\n\\n\\nUsing PyPI\\n\\n\\nCode of conduct\\nReport security issue\\nPrivacy policy\\nTerms of Use\\nAcceptable Use Policy\\n\\n\\n\\n\\n\\n\\nStatus:\\nall systems operational\\n\\n\\nDeveloped and maintained by the Python community, for the Python community.          \\nDonate today!\\n\\n\\n          \"PyPI\", \"Python Package Index\", and the blocks logos are registered trademarks of the Python Software Foundation.\\n\\n\\n          © 2024 Python Software Foundation\\nSite map\\n\\n\\n\\n\\nSwitch to desktop version        \\n\\n\\n\\n\\n\\n\\n\\n              English\\n            \\n\\n\\n\\n              español\\n            \\n\\n\\n\\n              français\\n            \\n\\n\\n\\n              日本語\\n            \\n\\n\\n\\n              português (Brasil)\\n            \\n\\n\\n\\n              українська\\n            \\n\\n\\n\\n              Ελληνικά\\n            \\n\\n\\n\\n              Deutsch\\n            \\n\\n\\n\\n              中文 (简体)\\n            \\n\\n\\n\\n              中文 (繁體)\\n            \\n\\n\\n\\n              русский\\n            \\n\\n\\n\\n              עברית\\n            \\n\\n\\n\\n              Esperanto\\n            \\n\\n\\n\\n\\n\\nSupported by\\n\\n\\n\\nAWS\\n\\n            Cloud computing and Security Sponsor\\n          \\n\\n\\n\\nDatadog\\n\\n            Monitoring\\n          \\n\\n\\n\\nFastly\\n\\n            CDN\\n          \\n\\n\\n\\nGoogle\\n\\n            Download Analytics\\n          \\n\\n\\n\\nMicrosoft\\n\\n            PSF Sponsor\\n          \\n\\n\\n\\nPingdom\\n\\n            Monitoring\\n          \\n\\n\\n\\nSentry\\n\\n            Error logging\\n          \\n\\n\\n\\nStatusPage\\n\\n            Status page\\n          \\n\\n\\n\\n')]"
      ]
     },
     "execution_count": 5,
     "metadata": {},
     "output_type": "execute_result"
    }
   ],
   "source": [
    "docs = loader.load()\n",
    "docs"
   ]
  },
  {
   "cell_type": "code",
   "execution_count": 6,
   "metadata": {},
   "outputs": [
    {
     "data": {
      "text/plain": [
       "[Document(metadata={'source': 'https://pypi.org/project/langchain-google-genai/', 'title': 'langchain-google-genai · PyPI', 'description': \"An integration package connecting Google's genai package and LangChain\", 'language': 'en'}, page_content=\"langchain-google-genai · PyPI\\n\\n\\n\\n\\n\\n\\n\\n\\n\\n\\n \\n\\n\\n\\n\\n\\n\\n\\n\\n\\n\\n\\n\\n\\n\\n\\n\\n\\nSkip to main content\\n\\nSwitch to mobile version    \\n\\n\\n\\n\\n\\n\\n\\nWarning\\n\\nSome features may not work without JavaScript. Please try enabling it if you encounter problems.\\n\\n\\n \\n\\n\\n\\n\\n\\n\\n\\n\\n\\n\\n\\n\\nSearch PyPI\\n\\n\\n\\nSearch\\n\\n\\n\\n \\n\\n\\nHelp\\nSponsors\\nLog in\\nRegister\\n\\n\\n\\n\\nMenu      \\n\\n\\n\\n\\nHelp\\nSponsors\\nLog in\\nRegister\\n\\n\\n\\n \\n\\n\\n\\n\\nSearch PyPI\\n\\n\\n\\nSearch\\n\\n\\n\\n\\n\\n\\n\\n\\n\\n\\n        langchain-google-genai 1.0.10\\n      \\n\\n\\npip install langchain-google-genai\\n\\n\\nCopy PIP instructions\\n\\n\\n\\n\\n\\n\\nLatest version\\n\\n\\nReleased: \\n  Aug 21, 2024\\n \\n\\n\\n\\n\\n\\n \\nAn integration package connecting Google's genai package and LangChain\\n \\n\\n\\n\\n\\n\\n\\n\\nNavigation\\n\\n\\n\\n\\n\\nProject description                \\n\\n\\n\\n\\nRelease history                \\n\\n\\n\\n\\nDownload files                \\n\\n\\n\\n\\n\\nVerified details\\nThese details have been verified by PyPI\\nProject links\\n\\n\\n\\nHomepage\\n        \\n\\n\\n\\n\\nRepository\\n        \\n\\n\\n\\n\\nSource Code\\n        \\n\\n\\n\\nGitHub Statistics\\n\\n\\n\\n\\n\\nRepository\\n\\n\\n\\n\\n\\nStars:\\n\\n\\n\\n\\n\\n\\nForks:\\n\\n\\n\\n\\n\\n\\nOpen issues:\"),\n",
       " Document(metadata={'source': 'https://pypi.org/project/langchain-google-genai/', 'title': 'langchain-google-genai · PyPI', 'description': \"An integration package connecting Google's genai package and LangChain\", 'language': 'en'}, page_content='Homepage\\n        \\n\\n\\n\\n\\nRepository\\n        \\n\\n\\n\\n\\nSource Code\\n        \\n\\n\\n\\nGitHub Statistics\\n\\n\\n\\n\\n\\nRepository\\n\\n\\n\\n\\n\\nStars:\\n\\n\\n\\n\\n\\n\\nForks:\\n\\n\\n\\n\\n\\n\\nOpen issues:\\n\\n\\n\\n\\n\\n\\nOpen PRs:\\n\\n\\n\\n\\n\\nMaintainers\\n\\n\\n\\n\\n\\n\\n            baskaryan\\n          \\n\\n\\n\\n\\n\\n\\n\\n\\n            efriis\\n          \\n\\n\\n\\n\\n\\n\\n\\n\\n            wfhinthorn\\n          \\n\\n\\n\\n\\nUnverified details\\nThese details have not been verified by PyPI\\n\\nMeta\\n\\n\\n\\nLicense: MIT License (MIT)\\n      \\n\\n\\n\\nRequires: Python <4.0, >=3.9\\n    \\n\\n\\n\\nProvides-Extra: images \\n\\n\\n\\n\\nClassifiers\\n\\n\\nLicense\\n\\n\\n\\n            OSI Approved :: MIT License\\n          \\n\\n\\n\\n\\nProgramming Language\\n\\n\\n\\n            Python :: 3\\n          \\n\\n\\n\\n            Python :: 3.9\\n          \\n\\n\\n\\n            Python :: 3.10\\n          \\n\\n\\n\\n            Python :: 3.11\\n          \\n\\n\\n\\n            Python :: 3.12\\n          \\n\\n\\n\\n\\n\\n\\n\\n\\n\\n\\n\\n\\n\\n\\n\\nProject description              \\n\\n\\n\\n\\nProject details              \\n\\n\\n\\n\\nRelease history            \\n\\n\\n\\n\\nDownload files              \\n\\n\\n\\n\\nProject description'),\n",
       " Document(metadata={'source': 'https://pypi.org/project/langchain-google-genai/', 'title': 'langchain-google-genai · PyPI', 'description': \"An integration package connecting Google's genai package and LangChain\", 'language': 'en'}, page_content='Project description              \\n\\n\\n\\n\\nProject details              \\n\\n\\n\\n\\nRelease history            \\n\\n\\n\\n\\nDownload files              \\n\\n\\n\\n\\nProject description\\n\\nlangchain-google-genai\\nThis package contains the LangChain integrations for Gemini through their generative-ai SDK.\\nInstallation\\npip install -U langchain-google-genai\\n\\nImage utilities\\nTo use image utility methods, like loading images from GCS urls, install with extras group \\'images\\':\\npip install -e \"langchain-google-genai[images]\"\\n\\nChat Models\\nThis package contains the ChatGoogleGenerativeAI class, which is the recommended way to interface with the Google Gemini series of models.\\nTo use, install the requirements, and configure your environment.\\nexport GOOGLE_API_KEY=your-api-key\\n\\nThen initialize\\nfrom langchain_google_genai import ChatGoogleGenerativeAI\\n\\nllm = ChatGoogleGenerativeAI(model=\"gemini-pro\")\\nllm.invoke(\"Sing a ballad of LangChain.\")'),\n",
       " Document(metadata={'source': 'https://pypi.org/project/langchain-google-genai/', 'title': 'langchain-google-genai · PyPI', 'description': \"An integration package connecting Google's genai package and LangChain\", 'language': 'en'}, page_content='Then initialize\\nfrom langchain_google_genai import ChatGoogleGenerativeAI\\n\\nllm = ChatGoogleGenerativeAI(model=\"gemini-pro\")\\nllm.invoke(\"Sing a ballad of LangChain.\")\\n\\nMultimodal inputs\\nGemini vision model supports image inputs when providing a single chat message. Example:\\nfrom langchain_core.messages import HumanMessage\\nfrom langchain_google_genai import ChatGoogleGenerativeAI\\n\\nllm = ChatGoogleGenerativeAI(model=\"gemini-pro-vision\")\\n# example\\nmessage = HumanMessage(\\n    content=[\\n        {\\n            \"type\": \"text\",\\n            \"text\": \"What\\'s in this image?\",\\n        },  # You can optionally provide text parts\\n        {\"type\": \"image_url\", \"image_url\": \"https://picsum.photos/seed/picsum/200/300\"},\\n    ]\\n)\\nllm.invoke([message])\\n\\nThe value of image_url can be any of the following:\\n\\nA public image URL\\nAn accessible gcs file (e.g., \"gcs://path/to/file.png\")\\nA local file path\\nA base64 encoded image (e.g., data:image/png;base64,abcd124)\\nA PIL image'),\n",
       " Document(metadata={'source': 'https://pypi.org/project/langchain-google-genai/', 'title': 'langchain-google-genai · PyPI', 'description': \"An integration package connecting Google's genai package and LangChain\", 'language': 'en'}, page_content='A public image URL\\nAn accessible gcs file (e.g., \"gcs://path/to/file.png\")\\nA local file path\\nA base64 encoded image (e.g., data:image/png;base64,abcd124)\\nA PIL image\\n\\nEmbeddings\\nThis package also adds support for google\\'s embeddings models.\\nfrom langchain_google_genai import GoogleGenerativeAIEmbeddings\\n\\nembeddings = GoogleGenerativeAIEmbeddings(model=\"models/embedding-001\")\\nembeddings.embed_query(\"hello, world!\")\\n\\nSemantic Retrieval\\nEnables retrieval augmented generation (RAG) in your application.\\n# Create a new store for housing your documents.\\ncorpus_store = GoogleVectorStore.create_corpus(display_name=\"My Corpus\")\\n\\n# Create a new document under the above corpus.\\ndocument_store = GoogleVectorStore.create_document(\\n    corpus_id=corpus_store.corpus_id, display_name=\"My Document\"\\n)'),\n",
       " Document(metadata={'source': 'https://pypi.org/project/langchain-google-genai/', 'title': 'langchain-google-genai · PyPI', 'description': \"An integration package connecting Google's genai package and LangChain\", 'language': 'en'}, page_content='# Create a new document under the above corpus.\\ndocument_store = GoogleVectorStore.create_document(\\n    corpus_id=corpus_store.corpus_id, display_name=\"My Document\"\\n)\\n\\n# Upload some texts to the document.\\ntext_splitter = CharacterTextSplitter(chunk_size=500, chunk_overlap=0)\\nfor file in DirectoryLoader(path=\"data/\").load():\\n    documents = text_splitter.split_documents([file])\\n    document_store.add_documents(documents)\\n\\n# Talk to your entire corpus with possibly many documents. \\naqa = corpus_store.as_aqa()\\nanswer = aqa.invoke(\"What is the meaning of life?\")\\n\\n# Read the response along with the attributed passages and answerability.\\nprint(response.answer)\\nprint(response.attributed_passages)\\nprint(response.answerable_probability)\\n\\n\\n\\n\\nProject details\\n\\nVerified details\\nThese details have been verified by PyPI\\nProject links\\n\\n\\n\\nHomepage\\n        \\n\\n\\n\\n\\nRepository\\n        \\n\\n\\n\\n\\nSource Code\\n        \\n\\n\\n\\nGitHub Statistics\\n\\n\\n\\n\\n\\nRepository\\n\\n\\n\\n\\n\\nStars:\\n\\n\\n\\n\\n\\n\\nForks:\\n\\n\\n\\n\\n\\n\\nOpen issues:\\n\\n\\n\\n\\n\\n\\nOpen PRs:'),\n",
       " Document(metadata={'source': 'https://pypi.org/project/langchain-google-genai/', 'title': 'langchain-google-genai · PyPI', 'description': \"An integration package connecting Google's genai package and LangChain\", 'language': 'en'}, page_content='Homepage\\n        \\n\\n\\n\\n\\nRepository\\n        \\n\\n\\n\\n\\nSource Code\\n        \\n\\n\\n\\nGitHub Statistics\\n\\n\\n\\n\\n\\nRepository\\n\\n\\n\\n\\n\\nStars:\\n\\n\\n\\n\\n\\n\\nForks:\\n\\n\\n\\n\\n\\n\\nOpen issues:\\n\\n\\n\\n\\n\\n\\nOpen PRs:\\n\\n\\n\\n\\n\\nMaintainers\\n\\n\\n\\n\\n\\n\\n            baskaryan\\n          \\n\\n\\n\\n\\n\\n\\n\\n\\n            efriis\\n          \\n\\n\\n\\n\\n\\n\\n\\n\\n            wfhinthorn\\n          \\n\\n\\n\\n\\nUnverified details\\nThese details have not been verified by PyPI\\n\\nMeta\\n\\n\\n\\nLicense: MIT License (MIT)\\n      \\n\\n\\n\\nRequires: Python <4.0, >=3.9\\n    \\n\\n\\n\\nProvides-Extra: images \\n\\n\\n\\n\\nClassifiers\\n\\n\\nLicense\\n\\n\\n\\n            OSI Approved :: MIT License\\n          \\n\\n\\n\\n\\nProgramming Language\\n\\n\\n\\n            Python :: 3\\n          \\n\\n\\n\\n            Python :: 3.9\\n          \\n\\n\\n\\n            Python :: 3.10\\n          \\n\\n\\n\\n            Python :: 3.11\\n          \\n\\n\\n\\n            Python :: 3.12\\n          \\n\\n\\n\\n\\n\\n \\n\\n\\n\\nRelease history\\n\\nRelease notifications |\\n              RSS feed \\n\\n\\n\\n\\n\\nThis version\\n\\n\\n\\n\\n\\n\\n\\n                  1.0.10\\n                \\n\\n\\n  Aug 21, 2024\\n\\n\\n\\n\\n\\n\\n\\n\\n\\n\\n\\n\\n\\n                  1.0.9'),\n",
       " Document(metadata={'source': 'https://pypi.org/project/langchain-google-genai/', 'title': 'langchain-google-genai · PyPI', 'description': \"An integration package connecting Google's genai package and LangChain\", 'language': 'en'}, page_content='Release notifications |\\n              RSS feed \\n\\n\\n\\n\\n\\nThis version\\n\\n\\n\\n\\n\\n\\n\\n                  1.0.10\\n                \\n\\n\\n  Aug 21, 2024\\n\\n\\n\\n\\n\\n\\n\\n\\n\\n\\n\\n\\n\\n                  1.0.9\\n                \\n\\n\\n  Aug 16, 2024\\n\\n\\n\\n\\n\\n\\n\\n\\n\\n\\n\\n\\n\\n                  1.0.8\\n                \\n\\n\\n  Jul 22, 2024\\n\\n\\n\\n\\n\\n\\n\\n\\n\\n\\n\\n\\n\\n                  1.0.7\\n                \\n\\n\\n  Jun 25, 2024\\n\\n\\n\\n\\n\\n\\n\\n\\n\\n\\n\\n\\n\\n                  1.0.6\\n                \\n\\n\\n  Jun 5, 2024\\n\\n\\n\\n\\n\\n\\n\\n\\n\\n\\n\\n\\n\\n                  1.0.5\\n                \\n\\n\\n  May 22, 2024\\n\\n\\n\\n\\n\\n\\n\\n\\n\\n\\n\\n\\n\\n                  1.0.4\\n                \\n\\n\\n  May 16, 2024\\n\\n\\n\\n\\n\\n\\n\\n\\n\\n\\n\\n\\n\\n                  1.0.3\\n                \\n\\n\\n  Apr 26, 2024\\n\\n\\n\\n\\n\\n\\n\\n\\n\\n\\n\\n\\n\\n                  1.0.2\\n                \\n\\n\\n  Apr 11, 2024\\n\\n\\n\\n\\n\\n\\n\\n\\n\\n\\n\\n\\n\\n                  1.0.1\\n                \\n\\n\\n  Mar 27, 2024\\n\\n\\n\\n\\n\\n\\n\\n\\n\\n\\n\\n\\n\\n                  0.0.11\\n                \\n\\n\\n  Mar 13, 2024\\n\\n\\n\\n\\n\\n\\n\\n\\n\\n\\n\\n\\n\\n                  0.0.10rc0\\n                  \\npre-release                  \\n\\n\\n\\n  Feb 20, 2024'),\n",
       " Document(metadata={'source': 'https://pypi.org/project/langchain-google-genai/', 'title': 'langchain-google-genai · PyPI', 'description': \"An integration package connecting Google's genai package and LangChain\", 'language': 'en'}, page_content='0.0.11\\n                \\n\\n\\n  Mar 13, 2024\\n\\n\\n\\n\\n\\n\\n\\n\\n\\n\\n\\n\\n\\n                  0.0.10rc0\\n                  \\npre-release                  \\n\\n\\n\\n  Feb 20, 2024\\n\\n\\n\\n\\n\\n\\n\\n\\n\\n\\n\\n\\n\\n                  0.0.9\\n                \\n\\n\\n  Feb 13, 2024\\n\\n\\n\\n\\n\\n\\n\\n\\n\\n\\n\\n\\n\\n                  0.0.8\\n                \\n\\n\\n  Feb 9, 2024\\n\\n\\n\\n\\n\\n\\n\\n\\n\\n\\n\\n\\n\\n                  0.0.7\\n                \\n\\n\\n  Feb 8, 2024\\n\\n\\n\\n\\n\\n\\n\\n\\n\\n\\n\\n\\n\\n                  0.0.6\\n                \\n\\n\\n  Jan 12, 2024\\n\\n\\n\\n\\n\\n\\n\\n\\n\\n\\n\\n\\n\\n                  0.0.5\\n                \\n\\n\\n  Dec 19, 2023\\n\\n\\n\\n\\n\\n\\n\\n\\n\\n\\n\\n\\n\\n                  0.0.4\\n                \\n\\n\\n  Dec 14, 2023\\n\\n\\n\\n\\n\\n\\n\\n\\n\\n\\n\\n\\n\\n                  0.0.3\\n                \\n\\n\\n  Dec 14, 2023\\n\\n\\n\\n\\n\\n\\n\\n\\n\\n\\n\\n\\n\\n                  0.0.2\\n                \\n\\n\\n  Dec 13, 2023\\n\\n\\n\\n\\n\\n\\n\\n\\n\\n\\n\\n\\n\\n                  0.0.1\\n                \\n\\n\\n  Dec 13, 2023\\n\\n\\n\\n\\n\\n\\n\\n\\n\\n\\n\\n\\n\\n                  0.0.1rc0\\n                  \\npre-release                  \\n\\n\\n\\n  Dec 13, 2023'),\n",
       " Document(metadata={'source': 'https://pypi.org/project/langchain-google-genai/', 'title': 'langchain-google-genai · PyPI', 'description': \"An integration package connecting Google's genai package and LangChain\", 'language': 'en'}, page_content=\"0.0.1\\n                \\n\\n\\n  Dec 13, 2023\\n\\n\\n\\n\\n\\n\\n\\n\\n\\n\\n\\n\\n\\n                  0.0.1rc0\\n                  \\npre-release                  \\n\\n\\n\\n  Dec 13, 2023\\n\\n\\n\\n\\n\\n\\n\\nDownload files\\nDownload the file for your platform. If you're not sure which to choose, learn more about installing packages.\\n\\nSource Distribution            \\n\\n\\n\\n\\n\\n\\n          langchain_google_genai-1.0.10.tar.gz\\n        \\n        (35.2 kB\\n        view hashes)\\n        \\n          Uploaded \\n  Aug 21, 2024\\n\\nSource\\n\\n\\n\\n\\nBuilt Distribution            \\n\\n\\n\\n\\n\\n\\n          langchain_google_genai-1.0.10-py3-none-any.whl\\n        \\n        (39.4 kB\\n        view hashes)\\n        \\n          Uploaded \\n  Aug 21, 2024\\n\\nPython 3\\n\\n\\n\\n\\n\\n\\n\\n\\nClose\\n\\n\\n\\nHashes for langchain_google_genai-1.0.10.tar.gz      \\n\\nHashes for langchain_google_genai-1.0.10.tar.gz\\n\\n\\nAlgorithm\\nHash digest\\n\\n\\n\\n\\n\\nSHA256\\nd4465aaf50825c78663618259ceca60a323d33b1a09a791631ddc7bd4806f4ce\\n\\n\\nCopy              \\n\\n\\n\\nMD5\\n774a0d84cd2a2d4d120f08c6dab971cf\\n\\n\\nCopy\"),\n",
       " Document(metadata={'source': 'https://pypi.org/project/langchain-google-genai/', 'title': 'langchain-google-genai · PyPI', 'description': \"An integration package connecting Google's genai package and LangChain\", 'language': 'en'}, page_content='Algorithm\\nHash digest\\n\\n\\n\\n\\n\\nSHA256\\nd4465aaf50825c78663618259ceca60a323d33b1a09a791631ddc7bd4806f4ce\\n\\n\\nCopy              \\n\\n\\n\\nMD5\\n774a0d84cd2a2d4d120f08c6dab971cf\\n\\n\\nCopy              \\n\\n\\n\\nBLAKE2b-256\\nf85eaec27b71372874a3ef21656bd9876c416615b864dae08f9d6e9259ed24e3\\n\\n\\nCopy              \\n\\n\\n\\n\\n\\n\\nClose\\n\\n\\n\\n\\n\\n\\nClose\\n\\n\\n\\nHashes for langchain_google_genai-1.0.10-py3-none-any.whl      \\n\\nHashes for langchain_google_genai-1.0.10-py3-none-any.whl\\n\\n\\nAlgorithm\\nHash digest\\n\\n\\n\\n\\n\\nSHA256\\n333f5e10ebde45b519b7816d7129cb73c5f5e6ab0df9960fa2c9f339fe9d9068\\n\\n\\nCopy              \\n\\n\\n\\nMD5\\n7bcee50bb6b1ee05fdb15e0aad0c6734\\n\\n\\nCopy              \\n\\n\\n\\nBLAKE2b-256\\ne6814dce584a25826945ee092c5a1ae56d6efdca73c108b46e7887670d3fe7a3\\n\\n\\nCopy              \\n\\n\\n\\n\\n\\n\\nClose\\n\\n\\n\\n\\n\\n\\n\\n\\n\\n\\n\\n\\n\\n\\nHelp\\n\\n\\nInstalling packages\\nUploading packages\\nUser guide\\nProject name retention\\nFAQs\\n\\n\\n\\n\\nAbout PyPI\\n\\n\\nPyPI Blog\\nInfrastructure dashboard\\nStatistics\\nLogos & trademarks\\nOur sponsors\\n\\n\\n\\n\\nContributing to PyPI'),\n",
       " Document(metadata={'source': 'https://pypi.org/project/langchain-google-genai/', 'title': 'langchain-google-genai · PyPI', 'description': \"An integration package connecting Google's genai package and LangChain\", 'language': 'en'}, page_content='Installing packages\\nUploading packages\\nUser guide\\nProject name retention\\nFAQs\\n\\n\\n\\n\\nAbout PyPI\\n\\n\\nPyPI Blog\\nInfrastructure dashboard\\nStatistics\\nLogos & trademarks\\nOur sponsors\\n\\n\\n\\n\\nContributing to PyPI\\n\\n\\nBugs and feedback\\nContribute on GitHub\\nTranslate PyPI\\nSponsor PyPI\\nDevelopment credits\\n\\n\\n\\n\\nUsing PyPI\\n\\n\\nCode of conduct\\nReport security issue\\nPrivacy policy\\nTerms of Use\\nAcceptable Use Policy\\n\\n\\n\\n\\n\\n\\nStatus:\\nall systems operational\\n\\n\\nDeveloped and maintained by the Python community, for the Python community.          \\nDonate today!\\n\\n\\n          \"PyPI\", \"Python Package Index\", and the blocks logos are registered trademarks of the Python Software Foundation.\\n\\n\\n          © 2024 Python Software Foundation\\nSite map\\n\\n\\n\\n\\nSwitch to desktop version        \\n\\n\\n\\n\\n\\n\\n\\n              English\\n            \\n\\n\\n\\n              español\\n            \\n\\n\\n\\n              français\\n            \\n\\n\\n\\n              日本語\\n            \\n\\n\\n\\n              português (Brasil)\\n            \\n\\n\\n\\n              українська'),\n",
       " Document(metadata={'source': 'https://pypi.org/project/langchain-google-genai/', 'title': 'langchain-google-genai · PyPI', 'description': \"An integration package connecting Google's genai package and LangChain\", 'language': 'en'}, page_content='français\\n            \\n\\n\\n\\n              日本語\\n            \\n\\n\\n\\n              português (Brasil)\\n            \\n\\n\\n\\n              українська\\n            \\n\\n\\n\\n              Ελληνικά\\n            \\n\\n\\n\\n              Deutsch\\n            \\n\\n\\n\\n              中文 (简体)\\n            \\n\\n\\n\\n              中文 (繁體)\\n            \\n\\n\\n\\n              русский\\n            \\n\\n\\n\\n              עברית\\n            \\n\\n\\n\\n              Esperanto\\n            \\n\\n\\n\\n\\n\\nSupported by\\n\\n\\n\\nAWS\\n\\n            Cloud computing and Security Sponsor\\n          \\n\\n\\n\\nDatadog\\n\\n            Monitoring\\n          \\n\\n\\n\\nFastly\\n\\n            CDN\\n          \\n\\n\\n\\nGoogle\\n\\n            Download Analytics\\n          \\n\\n\\n\\nMicrosoft\\n\\n            PSF Sponsor\\n          \\n\\n\\n\\nPingdom\\n\\n            Monitoring\\n          \\n\\n\\n\\nSentry\\n\\n            Error logging\\n          \\n\\n\\n\\nStatusPage\\n\\n            Status page')]"
      ]
     },
     "execution_count": 6,
     "metadata": {},
     "output_type": "execute_result"
    }
   ],
   "source": [
    "### Load Data --> Docs --> Divide our text into chunks -->text -->Vectors -->vector Embeddings --> Vector Stores\n",
    "from langchain_text_splitters import RecursiveCharacterTextSplitter\n",
    "text_splitter = RecursiveCharacterTextSplitter(chunk_size = 1000, chunk_overlap = 200)\n",
    "documents = text_splitter.split_documents(docs)\n",
    "documents"
   ]
  },
  {
   "cell_type": "code",
   "execution_count": 9,
   "metadata": {},
   "outputs": [],
   "source": [
    "from langchain_google_genai import GoogleGenerativeAIEmbeddings\n",
    "embeddings = GoogleGenerativeAIEmbeddings(model=\"models/embedding-001\")"
   ]
  },
  {
   "cell_type": "code",
   "execution_count": 11,
   "metadata": {},
   "outputs": [
    {
     "data": {
      "text/plain": [
       "<langchain_community.vectorstores.faiss.FAISS at 0x1efaaf83020>"
      ]
     },
     "execution_count": 11,
     "metadata": {},
     "output_type": "execute_result"
    }
   ],
   "source": [
    "from langchain_community.vectorstores import FAISS\n",
    "vectorstoredb = FAISS.from_documents(documents,embeddings)\n",
    "vectorstoredb"
   ]
  },
  {
   "cell_type": "code",
   "execution_count": 12,
   "metadata": {},
   "outputs": [
    {
     "data": {
      "text/plain": [
       "'A public image URL\\nAn accessible gcs file (e.g., \"gcs://path/to/file.png\")\\nA local file path\\nA base64 encoded image (e.g., data:image/png;base64,abcd124)\\nA PIL image\\n\\nEmbeddings\\nThis package also adds support for google\\'s embeddings models.\\nfrom langchain_google_genai import GoogleGenerativeAIEmbeddings\\n\\nembeddings = GoogleGenerativeAIEmbeddings(model=\"models/embedding-001\")\\nembeddings.embed_query(\"hello, world!\")\\n\\nSemantic Retrieval\\nEnables retrieval augmented generation (RAG) in your application.\\n# Create a new store for housing your documents.\\ncorpus_store = GoogleVectorStore.create_corpus(display_name=\"My Corpus\")\\n\\n# Create a new document under the above corpus.\\ndocument_store = GoogleVectorStore.create_document(\\n    corpus_id=corpus_store.corpus_id, display_name=\"My Document\"\\n)'"
      ]
     },
     "execution_count": 12,
     "metadata": {},
     "output_type": "execute_result"
    }
   ],
   "source": [
    "query =  \"How to Do embedding using Google Generative AI\"\n",
    "result = vectorstoredb.similarity_search(query)\n",
    "result[0].page_content"
   ]
  },
  {
   "cell_type": "code",
   "execution_count": 15,
   "metadata": {},
   "outputs": [
    {
     "data": {
      "text/plain": [
       "RunnableBinding(bound=RunnableBinding(bound=RunnableAssign(mapper={\n",
       "  context: RunnableLambda(format_docs)\n",
       "}), config={'run_name': 'format_inputs'})\n",
       "| ChatPromptTemplate(input_variables=['context'], messages=[HumanMessagePromptTemplate(prompt=PromptTemplate(input_variables=['context'], template='\\nAnswer The Following Question based Only on the Provided Context:\\n<context>\\n{context}\\n</context>\\n'))])\n",
       "| ChatGoogleGenerativeAI(model='models/gemini-1.5-flash', client=<google.ai.generativelanguage_v1beta.services.generative_service.client.GenerativeServiceClient object at 0x000001EFE5506930>, async_client=<google.ai.generativelanguage_v1beta.services.generative_service.async_client.GenerativeServiceAsyncClient object at 0x000001EFE553F740>, default_metadata=())\n",
       "| StrOutputParser(), config={'run_name': 'stuff_documents_chain'})"
      ]
     },
     "execution_count": 15,
     "metadata": {},
     "output_type": "execute_result"
    }
   ],
   "source": [
    "###Retrival Chain,Document Chain\n",
    "\n",
    "from langchain.chains.combine_documents import create_stuff_documents_chain\n",
    "from langchain_core.prompts import ChatPromptTemplate\n",
    "\n",
    "prompt = ChatPromptTemplate.from_template(\n",
    "    \"\"\"\n",
    "Answer The Following Question based Only on the Provided Context:\n",
    "<context>\n",
    "{context}\n",
    "</context>\n",
    "\"\"\"\n",
    ")\n",
    "\n",
    "\n",
    "document_chain =  create_stuff_documents_chain(llm,prompt)\n",
    "document_chain"
   ]
  },
  {
   "cell_type": "code",
   "execution_count": null,
   "metadata": {},
   "outputs": [],
   "source": [
    "document_chain.invoke({\n",
    "    \"input\":\"\"\n",
    "})"
   ]
  },
  {
   "cell_type": "code",
   "execution_count": null,
   "metadata": {},
   "outputs": [],
   "source": []
  }
 ],
 "metadata": {
  "kernelspec": {
   "display_name": "Python 3",
   "language": "python",
   "name": "python3"
  },
  "language_info": {
   "codemirror_mode": {
    "name": "ipython",
    "version": 3
   },
   "file_extension": ".py",
   "mimetype": "text/x-python",
   "name": "python",
   "nbconvert_exporter": "python",
   "pygments_lexer": "ipython3",
   "version": "3.12.0"
  }
 },
 "nbformat": 4,
 "nbformat_minor": 2
}
